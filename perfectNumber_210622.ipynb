{
 "cells": [
  {
   "cell_type": "markdown",
   "id": "94b8ac88",
   "metadata": {},
   "source": [
    "완전수 구하기(1~10000)"
   ]
  },
  {
   "cell_type": "code",
   "execution_count": 5,
   "id": "627a84f3",
   "metadata": {},
   "outputs": [
    {
     "name": "stdout",
     "output_type": "stream",
     "text": [
      "1번째 완전수 발견 : 6\n",
      "2번째 완전수 발견 : 28\n",
      "3번째 완전수 발견 : 496\n",
      "4번째 완전수 발견 : 8128\n",
      "완전수의 개수 : 4\n"
     ]
    }
   ],
   "source": [
    "lm = 0 # 완전수 카운트\n",
    "for n in range(1,10000):\n",
    "    k = n // 2 # 약수를 구하기 위해 단촐하기 만들기 위한작업\n",
    "    # '가자 큰 약수는 해당수의 절반과 같거나 작다' 라는 명제를 활용한다.\n",
    "    total = 0 # 약수들의 합 -> 매번 수(n) 이 바뀔 때마다 초기화 해줘야 함.\n",
    "    for j in range(1, k+1):\n",
    "        if n % j == 0 :\n",
    "            total += j\n",
    "        #####if end j\n",
    "    #### for end j\n",
    "    if total == n : # 약수들의 합과 해당 수의 같은 지 유무 = 완전수 판별\n",
    "        lm += 1\n",
    "        print('{}번째 완전수 발견 : {}'.format(lm,n))\n",
    "print('완전수의 개수 : {}'.format(lm))"
   ]
  },
  {
   "cell_type": "code",
   "execution_count": null,
   "id": "6e6027a9",
   "metadata": {},
   "outputs": [],
   "source": []
  },
  {
   "cell_type": "code",
   "execution_count": null,
   "id": "16dde21d",
   "metadata": {},
   "outputs": [],
   "source": []
  },
  {
   "cell_type": "code",
   "execution_count": null,
   "id": "a6ebfbae",
   "metadata": {},
   "outputs": [],
   "source": []
  },
  {
   "cell_type": "code",
   "execution_count": null,
   "id": "fbac102f",
   "metadata": {},
   "outputs": [],
   "source": []
  },
  {
   "cell_type": "code",
   "execution_count": null,
   "id": "e8e87634",
   "metadata": {},
   "outputs": [],
   "source": []
  },
  {
   "cell_type": "code",
   "execution_count": null,
   "id": "13199cc5",
   "metadata": {},
   "outputs": [],
   "source": []
  },
  {
   "cell_type": "code",
   "execution_count": null,
   "id": "25c5edfd",
   "metadata": {},
   "outputs": [],
   "source": []
  },
  {
   "cell_type": "code",
   "execution_count": null,
   "id": "465d3dc0",
   "metadata": {},
   "outputs": [],
   "source": []
  }
 ],
 "metadata": {
  "kernelspec": {
   "display_name": "Python 3",
   "language": "python",
   "name": "python3"
  },
  "language_info": {
   "codemirror_mode": {
    "name": "ipython",
    "version": 3
   },
   "file_extension": ".py",
   "mimetype": "text/x-python",
   "name": "python",
   "nbconvert_exporter": "python",
   "pygments_lexer": "ipython3",
   "version": "3.9.5"
  }
 },
 "nbformat": 4,
 "nbformat_minor": 5
}
