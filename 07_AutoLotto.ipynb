{
 "cells": [
  {
   "cell_type": "code",
   "execution_count": 11,
   "id": "4460e95c",
   "metadata": {},
   "outputs": [],
   "source": [
    "import time\n",
    "import random\n",
    "lotto = [i for i in range(1,46)]\n",
    "#자동 로또 생성기 만들기(돈을 넣은 만큼 로또 번호 생성)"
   ]
  },
  {
   "cell_type": "code",
   "execution_count": 32,
   "id": "5964330b",
   "metadata": {},
   "outputs": [
    {
     "name": "stdout",
     "output_type": "stream",
     "text": [
      "금액 투입 :2000\n",
      "1회 :  12 26 28 31 32 40 //보너스 : 6\n",
      "2회 :  04 05 24 30 36 43 //보너스 : 35\n"
     ]
    }
   ],
   "source": [
    "insertCoin =int(input('금액 투입 :'))\n",
    "\n",
    "for i in range(insertCoin // 1000):\n",
    "    #로또 번호 섞기\n",
    "    for j in range(1000):\n",
    "        mix = random.randrange(1,45)\n",
    "        lotto[0] , lotto[mix] = lotto[mix] , lotto[0]\n",
    "    #로또 번호 출력\n",
    "    print('{:d}회 : '.format(i+1), end = ' ')\n",
    "    lottoResult = lotto[0:6]\n",
    "    lottoResult.sort()\n",
    "    for k in range(6) : \n",
    "        print('{:02d}'. format(lottoResult[k]), end = ' ')\n",
    "    print('//보너스 : {}'.format(lotto[6]))\n"
   ]
  },
  {
   "cell_type": "code",
   "execution_count": null,
   "id": "a7d38767",
   "metadata": {},
   "outputs": [],
   "source": []
  },
  {
   "cell_type": "code",
   "execution_count": null,
   "id": "ca20644e",
   "metadata": {},
   "outputs": [],
   "source": []
  },
  {
   "cell_type": "code",
   "execution_count": null,
   "id": "2bf2d17a",
   "metadata": {},
   "outputs": [],
   "source": []
  },
  {
   "cell_type": "code",
   "execution_count": null,
   "id": "90307345",
   "metadata": {},
   "outputs": [],
   "source": []
  },
  {
   "cell_type": "code",
   "execution_count": null,
   "id": "a94548d6",
   "metadata": {},
   "outputs": [],
   "source": []
  },
  {
   "cell_type": "code",
   "execution_count": null,
   "id": "4761b48a",
   "metadata": {},
   "outputs": [],
   "source": []
  },
  {
   "cell_type": "code",
   "execution_count": null,
   "id": "57b54258",
   "metadata": {},
   "outputs": [],
   "source": []
  }
 ],
 "metadata": {
  "kernelspec": {
   "display_name": "Python 3",
   "language": "python",
   "name": "python3"
  },
  "language_info": {
   "codemirror_mode": {
    "name": "ipython",
    "version": 3
   },
   "file_extension": ".py",
   "mimetype": "text/x-python",
   "name": "python",
   "nbconvert_exporter": "python",
   "pygments_lexer": "ipython3",
   "version": "3.9.5"
  }
 },
 "nbformat": 4,
 "nbformat_minor": 5
}
