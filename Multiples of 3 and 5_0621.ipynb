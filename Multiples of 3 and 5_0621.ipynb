{
 "cells": [
  {
   "cell_type": "code",
   "execution_count": 8,
   "id": "e804fbad",
   "metadata": {},
   "outputs": [
    {
     "name": "stdout",
     "output_type": "stream",
     "text": [
      "3과 5의 공배수 :\n",
      " [0, 15, 30, 45, 60, 75, 90, 105, 120, 135, 150, 165, 180, 195, 210, 225, 240, 255, 270, 285, 300, 315, 330, 345, 360, 375, 390, 405, 420, 435, 450, 465, 480, 495, 510, 525, 540, 555, 570, 585, 600, 615, 630, 645, 660, 675, 690, 705, 720, 735, 750, 765, 780, 795, 810, 825, 840, 855, 870, 885, 900, 915, 930, 945, 960, 975, 990]\n",
      "공배수의 합 : 33165\n"
     ]
    }
   ],
   "source": [
    "# 1000미만 자연수 중 3과 5의 공배수의 합을 구하기\n",
    "#공배수 구할 리스트\n",
    "mutuples = list()\n",
    "#공배수 합을 구할 변수\n",
    "total = 0\n",
    "# 1000미만 공배수 \n",
    "for i in range(1001) :\n",
    "    if i % 15 ==0 :\n",
    "        mutuples.append(i)\n",
    "        total += i\n",
    "print('3과 5의 공배수 :\\n {}'.format(mutuples))\n",
    "print('공배수의 합 : {}'.format(total))\n",
    "        \n",
    "        \n",
    "        "
   ]
  }
 ],
 "metadata": {
  "kernelspec": {
   "display_name": "Python 3",
   "language": "python",
   "name": "python3"
  },
  "language_info": {
   "codemirror_mode": {
    "name": "ipython",
    "version": 3
   },
   "file_extension": ".py",
   "mimetype": "text/x-python",
   "name": "python",
   "nbconvert_exporter": "python",
   "pygments_lexer": "ipython3",
   "version": "3.9.5"
  }
 },
 "nbformat": 4,
 "nbformat_minor": 5
}
