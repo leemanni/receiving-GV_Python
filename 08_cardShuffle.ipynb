{
 "cells": [
  {
   "cell_type": "code",
   "execution_count": 29,
   "id": "56c987d1",
   "metadata": {},
   "outputs": [],
   "source": [
    "import time\n",
    "import random"
   ]
  },
  {
   "cell_type": "code",
   "execution_count": null,
   "id": "20242199",
   "metadata": {},
   "outputs": [],
   "source": []
  },
  {
   "cell_type": "code",
   "execution_count": 46,
   "id": "58a2a266",
   "metadata": {},
   "outputs": [],
   "source": [
    "name = ['A','2','3','4','5','6','7','8','9','10','J','Q','K']\n",
    "symbol = ['◆','♠','♥','♣']"
   ]
  },
  {
   "cell_type": "code",
   "execution_count": 67,
   "id": "4d5b70c5",
   "metadata": {},
   "outputs": [
    {
     "name": "stdout",
     "output_type": "stream",
     "text": [
      "◆A  ◆2  ◆3  ◆4  ◆5  ◆6  ◆7  ◆8  ◆9  ◆10 ◆J  ◆Q  ◆K  \n",
      "♠A  ♠2  ♠3  ♠4  ♠5  ♠6  ♠7  ♠8  ♠9  ♠10 ♠J  ♠Q  ♠K  \n",
      "♥A  ♥2  ♥3  ♥4  ♥5  ♥6  ♥7  ♥8  ♥9  ♥10 ♥J  ♥Q  ♥K  \n",
      "♣A  ♣2  ♣3  ♣4  ♣5  ♣6  ♣7  ♣8  ♣9  ♣10 ♣J  ♣Q  ♣K  \n",
      "====================================================================================================\n",
      "◆9  ◆K  ◆A  ◆J  ◆4  ◆6  ◆3  ◆2  ◆Q  ◆J  ◆K  ◆3  ◆5  \n",
      "♠A  ♠Q  ♠4  ♠4  ♠5  ♠10 ♠5  ♠2  ♠7  ♠7  ♠10 ♠K  ♠10 \n",
      "♥J  ♥K  ♥Q  ♥6  ♥2  ♥7  ♥5  ♥2  ♥6  ♥A  ♥8  ♥A  ♥7  \n",
      "♣3  ♣Q  ♣9  ♣8  ♣4  ♣8  ♣9  ♣6  ♣J  ♣10 ♣8  ♣3  ♣9  \n"
     ]
    }
   ],
   "source": [
    "card = [i for i in range(52)]\n",
    "for i in range(len(card)) :\n",
    "    print('{:s}{:2}'.format(symbol[i//13],name[card[i]%13]),end=' ')\n",
    "    if (i+1) % 13 == 0 :\n",
    "        print()\n",
    "print('='*100)\n",
    "\n",
    "random.shuffle(card)\n",
    "\n",
    "for i in range(len(card)) :\n",
    "    print('{:s}{:2}'.format(symbol[i//13],name[card[i]%13]),end=' ')\n",
    "    if (i+1) % 13 == 0 :\n",
    "        print()"
   ]
  },
  {
   "cell_type": "code",
   "execution_count": null,
   "id": "99a8acf5",
   "metadata": {},
   "outputs": [],
   "source": []
  },
  {
   "cell_type": "code",
   "execution_count": null,
   "id": "ba1064bb",
   "metadata": {},
   "outputs": [],
   "source": []
  },
  {
   "cell_type": "code",
   "execution_count": null,
   "id": "1781ebb3",
   "metadata": {},
   "outputs": [],
   "source": []
  },
  {
   "cell_type": "code",
   "execution_count": null,
   "id": "19857c34",
   "metadata": {},
   "outputs": [],
   "source": []
  }
 ],
 "metadata": {
  "kernelspec": {
   "display_name": "Python 3",
   "language": "python",
   "name": "python3"
  },
  "language_info": {
   "codemirror_mode": {
    "name": "ipython",
    "version": 3
   },
   "file_extension": ".py",
   "mimetype": "text/x-python",
   "name": "python",
   "nbconvert_exporter": "python",
   "pygments_lexer": "ipython3",
   "version": "3.9.5"
  }
 },
 "nbformat": 4,
 "nbformat_minor": 5
}
