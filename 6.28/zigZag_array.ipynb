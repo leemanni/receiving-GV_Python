{
 "cells": [
  {
   "cell_type": "code",
   "execution_count": 11,
   "id": "010ad621",
   "metadata": {},
   "outputs": [
    {
     "name": "stdout",
     "output_type": "stream",
     "text": [
      "행 과 열을 입력 =>10 10\n",
      "[  1 ][  2 ][  3 ][  4 ][  5 ][  6 ][  7 ][  8 ][  9 ][ 10 ]\n",
      "[ 20 ][ 19 ][ 18 ][ 17 ][ 16 ][ 15 ][ 14 ][ 13 ][ 12 ][ 11 ]\n",
      "[ 21 ][ 22 ][ 23 ][ 24 ][ 25 ][ 26 ][ 27 ][ 28 ][ 29 ][ 30 ]\n",
      "[ 40 ][ 39 ][ 38 ][ 37 ][ 36 ][ 35 ][ 34 ][ 33 ][ 32 ][ 31 ]\n",
      "[ 41 ][ 42 ][ 43 ][ 44 ][ 45 ][ 46 ][ 47 ][ 48 ][ 49 ][ 50 ]\n",
      "[ 60 ][ 59 ][ 58 ][ 57 ][ 56 ][ 55 ][ 54 ][ 53 ][ 52 ][ 51 ]\n",
      "[ 61 ][ 62 ][ 63 ][ 64 ][ 65 ][ 66 ][ 67 ][ 68 ][ 69 ][ 70 ]\n",
      "[ 80 ][ 79 ][ 78 ][ 77 ][ 76 ][ 75 ][ 74 ][ 73 ][ 72 ][ 71 ]\n",
      "[ 81 ][ 82 ][ 83 ][ 84 ][ 85 ][ 86 ][ 87 ][ 88 ][ 89 ][ 90 ]\n",
      "[100 ][ 99 ][ 98 ][ 97 ][ 96 ][ 95 ][ 94 ][ 93 ][ 92 ][ 91 ]\n"
     ]
    }
   ],
   "source": [
    "# 이중배열을 이용해서 지그그로 1씩 증가 시켜서 출력하기\n",
    "row, col = map(int,input('행 과 열을 입력 =>').split())\n",
    "# 2차원 배열 만들기\n",
    "arrZigZag = [[0]*col for i in range(row)]\n",
    "start = 0\n",
    "end = col -1\n",
    "di =1 # 반복의 방향을 정해주는 변수\n",
    "n = 0\n",
    "# 반복을 돌리기\n",
    "for i in range (row) :\n",
    "    for j in range(start, end+di,di):\n",
    "        n+=1\n",
    "        arrZigZag[i][j] = n\n",
    "    start, end =  end, start\n",
    "    di*=-1\n",
    "for i in range(row):\n",
    "    for j in range(col):\n",
    "        print('[{:3d} ]'.format(arrZigZag[i][j]),end = '')\n",
    "    print()\n"
   ]
  },
  {
   "cell_type": "code",
   "execution_count": 9,
   "id": "25ebaea8",
   "metadata": {},
   "outputs": [
    {
     "name": "stdout",
     "output_type": "stream",
     "text": [
      "2차원 리스트를 만들려는 행과 열 개수: 4 5\n",
      "[  1 ] [  2 ] [  3 ] [  4 ] [  5 ] \n",
      "[ 10 ] [  9 ] [  8 ] [  7 ] [  6 ] \n",
      "[ 11 ] [ 12 ] [ 13 ] [ 14 ] [ 15 ] \n",
      "[ 20 ] [ 19 ] [ 18 ] [ 17 ] [ 16 ] \n"
     ]
    }
   ],
   "source": [
    "# 짝수 홀수 구분 안하고 반본 하나로 지그재그로 해보기\n",
    "row, col = map(int,input('2차원 리스트를 만들려는 행과 열 개수: ').split())\n",
    "zigzagArr = [[0]*col for i in range(row)]\n",
    "n = 0 # 데이터를 채워줄 변수 / 1씩 증가해서 숫자 기억시킬거임\n",
    "# 전체 행의 개수만큼 반복한다.\n",
    "start = 0 # 2차원 리스트에 숫자가 채워지기 시작하는 여르이 index\n",
    "end = col - 1 # 2차원 리스트에 숫자가 채워지는 마지막 열의 인덱스\n",
    "di = 1 # 증감 정해주는 변수(start ~end 까지 증가치로 활용변수)\n",
    "for i in range(row): # row 라고 써도 무방하겟찌?\n",
    "    for j in range(start, end+di,di):\n",
    "        n+=1\n",
    "        zigzagArr[i][j] = n\n",
    "       # === for j \n",
    "    start, end = end , start\n",
    "    di *= -1\n",
    "# === for i\n",
    "for i in range(len(zigzagArr)):\n",
    "    for j in range(len(zigzagArr[i])):\n",
    "        print('[{0:3d} ]'.format(zigzagArr[i][j]), end = ' ')\n",
    "    print()\n"
   ]
  }
 ],
 "metadata": {
  "kernelspec": {
   "display_name": "Python 3",
   "language": "python",
   "name": "python3"
  },
  "language_info": {
   "codemirror_mode": {
    "name": "ipython",
    "version": 3
   },
   "file_extension": ".py",
   "mimetype": "text/x-python",
   "name": "python",
   "nbconvert_exporter": "python",
   "pygments_lexer": "ipython3",
   "version": "3.9.5"
  }
 },
 "nbformat": 4,
 "nbformat_minor": 5
}
