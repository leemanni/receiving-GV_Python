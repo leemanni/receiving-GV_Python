{
 "cells": [
  {
   "cell_type": "markdown",
   "id": "9c60318b",
   "metadata": {},
   "source": [
    "1. 정렬된 파일에 삽입할 대이터를 key에 삽입할 데이터의 index에 넣는다  \n",
    "2. key에 저장된 데이터와 이미 정렬된 파일의 마지막 인덱스 위치의 데이터부터  \n",
    "첫번째 데이터 위치의 방향으로 비교  \n",
    "3. key 에 저장된 데이터가 이미 정렬된 파일의 데이터 보다 작으면 정렬된 파일의 데이처를  \n",
    "다음 위치로 보내고 index 를 1 감소시킨다  \n",
    "4. 비교작업 모두 완료된 후 key에 저장된 데이터를 index번째 위치에 넣어준다."
   ]
  },
  {
   "cell_type": "code",
   "execution_count": 5,
   "id": "63ddbc35",
   "metadata": {},
   "outputs": [
    {
     "name": "stdout",
     "output_type": "stream",
     "text": [
      "[1, 3, 4, 8, 9]\n"
     ]
    }
   ],
   "source": [
    "data = [8, 3, 4, 9, 1]\n",
    "for i in range(1,len(data)):\n",
    "    key = data[i]\n",
    "    index = i\n",
    "    for j in range(i-1,-1,-1):\n",
    "        if data[j] > key:\n",
    "            data[j+1] = data[j]\n",
    "            index -=1\n",
    "        else :\n",
    "            break\n",
    "    data[index] = key\n",
    "print(data)"
   ]
  },
  {
   "cell_type": "code",
   "execution_count": null,
   "id": "ba30e33e",
   "metadata": {},
   "outputs": [],
   "source": []
  }
 ],
 "metadata": {
  "kernelspec": {
   "display_name": "Python 3",
   "language": "python",
   "name": "python3"
  },
  "language_info": {
   "codemirror_mode": {
    "name": "ipython",
    "version": 3
   },
   "file_extension": ".py",
   "mimetype": "text/x-python",
   "name": "python",
   "nbconvert_exporter": "python",
   "pygments_lexer": "ipython3",
   "version": "3.9.5"
  }
 },
 "nbformat": 4,
 "nbformat_minor": 5
}
