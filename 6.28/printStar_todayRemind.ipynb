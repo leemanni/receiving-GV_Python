{
 "cells": [
  {
   "cell_type": "code",
   "execution_count": 32,
   "id": "da5ca689",
   "metadata": {},
   "outputs": [
    {
     "name": "stdout",
     "output_type": "stream",
     "text": [
      " 100 │                           ☆            \n",
      "  90 │           ☆      ☆      ☆            \n",
      "  80 │   ☆      ★      ☆      ★            \n",
      "  70 │   ☆      ★      ★      ★            \n",
      "  60 │   ★      ★      ★      ★      ☆    \n",
      "  50 │   ★      ★      ★      ★      ★    \n",
      "  40 │   ★      ★      ★      ★      ★    \n",
      "  30 │   ★      ★      ★      ★      ★    \n",
      "  20 │   ★      ★      ★      ★      ★    \n",
      "  10 │   ★      ★      ★      ★      ★    \n",
      "   0 │   ★      ★      ★      ★      ★    \n",
      "     └----------------------------------------\n",
      "          75      94      89      95      62  "
     ]
    }
   ],
   "source": [
    "score = [75, 94, 89, 95, 62]\n",
    "for i in range(10, -1, -1) :\n",
    "    print(' {:3d} │ '.format(i*10),end = '')\n",
    "    for j in score:\n",
    "        if j // 10 > i :\n",
    "            print('  {:3s}  '.format('★'),end= '')\n",
    "        elif j + 5  >= i * 10 :\n",
    "            print('  {:3s}  '.format('☆'),end = '')\n",
    "        else :\n",
    "            print(' {} '.format('      '),end = '')\n",
    "    print()\n",
    "print('     └',end='')\n",
    "print('-'*40)\n",
    "print('      ',end = '')\n",
    "for i in range(len(score)):\n",
    "    print('    {:2d}  '.format(score[i]),end = '')\n",
    "        \n",
    "            \n",
    "    "
   ]
  }
 ],
 "metadata": {
  "kernelspec": {
   "display_name": "Python 3",
   "language": "python",
   "name": "python3"
  },
  "language_info": {
   "codemirror_mode": {
    "name": "ipython",
    "version": 3
   },
   "file_extension": ".py",
   "mimetype": "text/x-python",
   "name": "python",
   "nbconvert_exporter": "python",
   "pygments_lexer": "ipython3",
   "version": "3.9.5"
  }
 },
 "nbformat": 4,
 "nbformat_minor": 5
}
