{
 "cells": [
  {
   "cell_type": "code",
   "execution_count": 1,
   "id": "66db9f1c",
   "metadata": {},
   "outputs": [],
   "source": [
    "import random"
   ]
  },
  {
   "cell_type": "code",
   "execution_count": 29,
   "id": "d15ba3d8",
   "metadata": {},
   "outputs": [
    {
     "name": "stdout",
     "output_type": "stream",
     "text": [
      "1회 눈금 :2\n",
      "2회 눈금 :4\n",
      "3회 눈금 :5\n",
      "4회 눈금 :4\n",
      "5회 눈금 :1\n",
      "6회 눈금 :1\n",
      "7회 눈금 :5\n",
      "8회 눈금 :5\n",
      "9회 눈금 :2\n",
      "10회 눈금 :4\n",
      "\n",
      "1번 눈금 출현 횟수 : 2\n",
      "2번 눈금 출현 횟수 : 2\n",
      "3번 눈금 출현 횟수 : 0\n",
      "4번 눈금 출현 횟수 : 3\n",
      "5번 눈금 출현 횟수 : 3\n",
      "6번 눈금 출현 횟수 : 0\n"
     ]
    }
   ],
   "source": [
    "# 주사위 100번 굴리고 각 눈 수 데이터 채집 하기\n",
    "\n",
    "# 주시위 담아줄 변수\n",
    "diceData = [0 for i in range(6)]\n",
    "for  i in range(10):\n",
    "    countNum = random.randrange(1,7)\n",
    "    print('{}회 눈금 :{}' .format(i+1,countNum))\n",
    "    #데이터 축적하기\n",
    "    diceData[countNum-1] +=1\n",
    "    ####end of while\n",
    "print()\n",
    "for i in range(len(diceData)):\n",
    "    print('{}번 눈금 출현 횟수 : {}' .format(i+1,diceData[i]))"
   ]
  }
 ],
 "metadata": {
  "kernelspec": {
   "display_name": "Python 3",
   "language": "python",
   "name": "python3"
  },
  "language_info": {
   "codemirror_mode": {
    "name": "ipython",
    "version": 3
   },
   "file_extension": ".py",
   "mimetype": "text/x-python",
   "name": "python",
   "nbconvert_exporter": "python",
   "pygments_lexer": "ipython3",
   "version": "3.9.5"
  }
 },
 "nbformat": 4,
 "nbformat_minor": 5
}
