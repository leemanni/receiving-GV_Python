{
 "cells": [
  {
   "cell_type": "markdown",
   "id": "35632fcf",
   "metadata": {},
   "source": [
    "| 별점 표 만들어 보기 | python |  \n",
    "|:---:|:-----:|\n",
    "| 작성일 |작성자|\n",
    "|2021.06.27|이원희|  \n",
    "\n",
    " **겸사겸사 markdown도 틈틈히 공부하기"
   ]
  },
  {
   "cell_type": "markdown",
   "id": "ac3fe02b",
   "metadata": {},
   "source": [
    "각 점수를 별로 바꿔주는 함수 만들기  \n",
    "입력 받은 데이터를 점수별 별점이 담아두기  \n",
    "표를 출력하기  "
   ]
  },
  {
   "cell_type": "code",
   "execution_count": 2,
   "id": "ce1c2c87",
   "metadata": {},
   "outputs": [],
   "source": [
    "# 입력받은 점수를 별로 환산해주는 함수\n",
    "def changeStar(score):\n",
    "    star =list()\n",
    "    for i in range(score//10):\n",
    "        star.append('★')\n",
    "    if score % 10 >= 5 :\n",
    "        star.append('☆')\n",
    "    if len(star) < 10 : # 별의 개수를 무조건 10개로 만들어 주기 위함\n",
    "        for i in  range(10-len(star)):\n",
    "            star.append(' ')\n",
    "    return star"
   ]
  },
  {
   "cell_type": "code",
   "execution_count": 40,
   "id": "b72eef63",
   "metadata": {},
   "outputs": [],
   "source": [
    "# 점수 데이터를 입력받아서 리스트로 만들어 주는 함수\n",
    "def insertScore():\n",
    "    data = list()\n",
    "    while True :\n",
    "        p = int(input('점수를 입력하세요 :'))\n",
    "        data.append(p)\n",
    "        if p ==999 : \n",
    "            data.pop()\n",
    "            break\n",
    "        elif p > 100 :\n",
    "            print('err : 다시 입력하세요 점수는 (0 ~ 100 점 까지만 입력할 수 있습니다.)')\n",
    "            data.pop()\n",
    "            continue\n",
    "    return data"
   ]
  },
  {
   "cell_type": "code",
   "execution_count": 13,
   "id": "b4d416f2",
   "metadata": {},
   "outputs": [],
   "source": [
    "# 점수당 별을 기억해주는 딕셔너리로 만들어 주는 함수\n",
    "def renmData(data):\n",
    "    outPut = dict()\n",
    "    for i in range(len(data)):\n",
    "        for j in range(len(data)):\n",
    "            outPut[data[i]] = changeStar(data[i])\n",
    "    return outPut"
   ]
  },
  {
   "cell_type": "code",
   "execution_count": 30,
   "id": "009e59e9",
   "metadata": {},
   "outputs": [],
   "source": [
    "# 데이터를 별 모양 차트로 만들어 주는 함수\n",
    "def makeStarTable():\n",
    "    scoreData = insertScore() # 점수를 기억해줌\n",
    "    starData = renmData(scoreData) # 각 점수(key), 별(value) 로 기억해줌\n",
    "    # 표를 만들어 줌\n",
    "    for i in range(len(starData.get(scoreData[1]))-1,-1,-1): # 별의 개수는 무조건 10개로 됨\n",
    "        print(' {:3d} │ '.format((i+1)*10),end='')\n",
    "        for j in range(len(scoreData)):\n",
    "            print(' {:3s} '.format(starData.get(scoreData[j])[i]),end='')\n",
    "        print()\n",
    "    print('      '+'───'* len(scoreData)+'\\n       ',end='') # 6번 공백\n",
    "    for i in range(len(scoreData)):\n",
    "        print(' {:3d}  '.format(scoreData[i]),end='')\n"
   ]
  },
  {
   "cell_type": "code",
   "execution_count": 31,
   "id": "1c45d215",
   "metadata": {},
   "outputs": [
    {
     "name": "stdout",
     "output_type": "stream",
     "text": [
      "점수를 입력하세요 :100\n",
      "점수를 입력하세요 :100\n",
      "점수를 입력하세요 :85\n",
      "점수를 입력하세요 :76\n",
      "점수를 입력하세요 :24\n",
      "점수를 입력하세요 :17\n",
      "점수를 입력하세요 :999\n",
      " 100 │  ★    ★                       \n",
      "  90 │  ★    ★    ☆                  \n",
      "  80 │  ★    ★    ★    ☆             \n",
      "  70 │  ★    ★    ★    ★             \n",
      "  60 │  ★    ★    ★    ★             \n",
      "  50 │  ★    ★    ★    ★             \n",
      "  40 │  ★    ★    ★    ★             \n",
      "  30 │  ★    ★    ★    ★             \n",
      "  20 │  ★    ★    ★    ★    ★    ☆   \n",
      "  10 │  ★    ★    ★    ★    ★    ★   \n",
      "      ──────────────────\n",
      "        100   100    85    76    24    17  "
     ]
    }
   ],
   "source": [
    "makeStarTable()"
   ]
  },
  {
   "cell_type": "code",
   "execution_count": 41,
   "id": "41db4b80",
   "metadata": {},
   "outputs": [
    {
     "name": "stdout",
     "output_type": "stream",
     "text": [
      "점수를 입력하세요 :111\n",
      "err : 다시 입력하세요 점수는 (0 ~ 100 점 까지만 입력할 수 있습니다.)\n",
      "점수를 입력하세요 :999\n"
     ]
    },
    {
     "data": {
      "text/plain": [
       "[]"
      ]
     },
     "execution_count": 41,
     "metadata": {},
     "output_type": "execute_result"
    }
   ],
   "source": [
    "insertScore()"
   ]
  }
 ],
 "metadata": {
  "kernelspec": {
   "display_name": "Python 3",
   "language": "python",
   "name": "python3"
  },
  "language_info": {
   "codemirror_mode": {
    "name": "ipython",
    "version": 3
   },
   "file_extension": ".py",
   "mimetype": "text/x-python",
   "name": "python",
   "nbconvert_exporter": "python",
   "pygments_lexer": "ipython3",
   "version": "3.9.5"
  }
 },
 "nbformat": 4,
 "nbformat_minor": 5
}
