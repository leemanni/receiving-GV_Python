{
 "cells": [
  {
   "cell_type": "code",
   "execution_count": 1,
   "id": "4bd16d46",
   "metadata": {},
   "outputs": [],
   "source": [
    "import random"
   ]
  },
  {
   "cell_type": "code",
   "execution_count": 40,
   "id": "d4676853",
   "metadata": {},
   "outputs": [
    {
     "name": "stdout",
     "output_type": "stream",
     "text": [
      "로또 1등 번호 : [7, 3, 13, 10, 6, 9]//보너스 번호 : 33\n"
     ]
    }
   ],
   "source": [
    "# 로토 번호를 담을 변수\n",
    "lotto = list()\n",
    "number =0\n",
    "# 로또번호를 랜덤으로 뽑기\n",
    "while True :\n",
    "    number = random.randrange(1,26)\n",
    "# 중복되는 번호 넘기기    \n",
    "    if number not in lotto :\n",
    "        lotto.append(number)\n",
    "    if len(lotto) == 6 :\n",
    "        break\n",
    "        #=======end of while\n",
    "while 1==1 :\n",
    "    bonusNum = random.randrange(1,46)\n",
    "    if bonusNum not in lotto :\n",
    "        lotto.append(bonusNum)\n",
    "        break\n",
    "print('로또 1등 번호 : {}' .format(lotto[:6]),end ='')\n",
    "print('//보너스 번호 : {}'.format(lotto[-1]))\n"
   ]
  },
  {
   "cell_type": "code",
   "execution_count": null,
   "id": "dbab6b2f",
   "metadata": {},
   "outputs": [],
   "source": []
  },
  {
   "cell_type": "code",
   "execution_count": null,
   "id": "8f31a7d6",
   "metadata": {},
   "outputs": [],
   "source": []
  },
  {
   "cell_type": "code",
   "execution_count": null,
   "id": "e55df027",
   "metadata": {},
   "outputs": [],
   "source": []
  },
  {
   "cell_type": "code",
   "execution_count": null,
   "id": "33d91f01",
   "metadata": {},
   "outputs": [],
   "source": []
  },
  {
   "cell_type": "code",
   "execution_count": null,
   "id": "79a64fef",
   "metadata": {},
   "outputs": [],
   "source": []
  },
  {
   "cell_type": "code",
   "execution_count": null,
   "id": "8b015d2e",
   "metadata": {},
   "outputs": [],
   "source": []
  }
 ],
 "metadata": {
  "kernelspec": {
   "display_name": "Python 3",
   "language": "python",
   "name": "python3"
  },
  "language_info": {
   "codemirror_mode": {
    "name": "ipython",
    "version": 3
   },
   "file_extension": ".py",
   "mimetype": "text/x-python",
   "name": "python",
   "nbconvert_exporter": "python",
   "pygments_lexer": "ipython3",
   "version": "3.9.5"
  }
 },
 "nbformat": 4,
 "nbformat_minor": 5
}
