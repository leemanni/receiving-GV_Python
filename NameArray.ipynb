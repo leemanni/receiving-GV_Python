{
 "cells": [
  {
   "cell_type": "code",
   "execution_count": 164,
   "id": "a622676e",
   "metadata": {},
   "outputs": [
    {
     "name": "stdout",
     "output_type": "stream",
     "text": [
      "<class 'list'>\n"
     ]
    }
   ],
   "source": [
    "name =('이유덕,이재영,권종표,이재영,박민호,강상희'\n",
    "       ',이재영,김지완,최승혁,이성연,박영서,박민호,'\n",
    "       '전경헌,송정환,김재성,이유덕,전경헌').split(',')\n",
    "print(type(name))"
   ]
  },
  {
   "cell_type": "code",
   "execution_count": 165,
   "id": "d585c3f0",
   "metadata": {},
   "outputs": [
    {
     "name": "stdout",
     "output_type": "stream",
     "text": [
      "김씨 2명\n",
      "이씨:6명\n"
     ]
    }
   ],
   "source": [
    "#1 김씨와 이씨는 각각 몇명 일까?\n",
    "kim =0 ; lee = 0\n",
    "for i in name :\n",
    "    if i.count('김'):\n",
    "        kim +=1\n",
    "    if i.count('이'):\n",
    "        lee+=1\n",
    "print('김씨 {}명\\n이씨:{}명'.format(kim,lee))"
   ]
  },
  {
   "cell_type": "code",
   "execution_count": 166,
   "id": "abd13e22",
   "metadata": {},
   "outputs": [
    {
     "name": "stdout",
     "output_type": "stream",
     "text": [
      "이재영 씨 반복횟수 : 3 회\n"
     ]
    }
   ],
   "source": [
    "#2 \"이재영\"이란 이름이 몇 번 반복 되었는지\n",
    "print('이재영 씨 반복횟수 : {} 회' .format(name.count('이재영')))"
   ]
  },
  {
   "cell_type": "code",
   "execution_count": 167,
   "id": "a271e2e7",
   "metadata": {},
   "outputs": [
    {
     "name": "stdout",
     "output_type": "stream",
     "text": [
      "{'이재영', '권종표', '송정환', '김지완', '최승혁', '전경헌', '김재성', '강상희', '박민호', '박영서', '이성연', '이유덕'}\n"
     ]
    }
   ],
   "source": [
    "#3 중복을 제거한 이름 출력하기\n",
    "setName = set(name)\n",
    "print(setName)\n"
   ]
  },
  {
   "cell_type": "code",
   "execution_count": 168,
   "id": "ecef0409",
   "metadata": {},
   "outputs": [
    {
     "name": "stdout",
     "output_type": "stream",
     "text": [
      "['강상희', '권종표', '김재성', '김지완', '박민호', '박영서', '송정환', '이성연', '이유덕', '이재영', '전경헌', '최승혁']\n"
     ]
    }
   ],
   "source": [
    "# 4 중복을 제거한 이름을 오름차순으로 정렬하여 출력하세요.\n",
    "resetName = list(setName)\n",
    "resetName.sort()\n",
    "print(resetName)"
   ]
  },
  {
   "cell_type": "code",
   "execution_count": null,
   "id": "b400c139",
   "metadata": {},
   "outputs": [],
   "source": []
  },
  {
   "cell_type": "code",
   "execution_count": null,
   "id": "d86fe26f",
   "metadata": {},
   "outputs": [],
   "source": []
  },
  {
   "cell_type": "code",
   "execution_count": null,
   "id": "429f4efc",
   "metadata": {},
   "outputs": [],
   "source": []
  }
 ],
 "metadata": {
  "kernelspec": {
   "display_name": "Python 3",
   "language": "python",
   "name": "python3"
  },
  "language_info": {
   "codemirror_mode": {
    "name": "ipython",
    "version": 3
   },
   "file_extension": ".py",
   "mimetype": "text/x-python",
   "name": "python",
   "nbconvert_exporter": "python",
   "pygments_lexer": "ipython3",
   "version": "3.9.5"
  }
 },
 "nbformat": 4,
 "nbformat_minor": 5
}
